{
 "cells": [
  {
   "cell_type": "markdown",
   "id": "36adaeeb-7985-4219-bcf7-6e787619e9c6",
   "metadata": {},
   "source": [
    "#   E-Commerce Product Return Analysis – Data Cleaning & Preparation\n",
    "\n",
    "##  Introduction\n",
    "This project focuses on analyzing and reducing product return rates in an e-commerce business. By understanding the patterns behind returned products, we aim to provide data-driven insights that help the company improve product quality, optimize marketing, and enhance customer satisfaction.\n",
    "\n",
    "The goal of this step is to clean and prepare the dataset for visualizationg. This involves handling missing values.\n",
    "\n",
    "\n",
    "\n",
    "##  Dataset Description\n",
    "\n",
    "The dataset used in this project is a **synthetic e-commerce returns dataset** sourced from [Kaggle](https://www.kaggle.com/).  \n"
   ]
  },
  {
   "cell_type": "code",
   "execution_count": 1,
   "id": "53bb8357-82fd-417b-b47e-f84544cba650",
   "metadata": {},
   "outputs": [
    {
     "name": "stdout",
     "output_type": "stream",
     "text": [
      "Defaulting to user installation because normal site-packages is not writeable\n",
      "Requirement already satisfied: pandas in c:\\programdata\\anaconda3\\lib\\site-packages (2.2.2)\n",
      "Requirement already satisfied: matplotlib in c:\\programdata\\anaconda3\\lib\\site-packages (3.9.2)\n",
      "Requirement already satisfied: seaborn in c:\\programdata\\anaconda3\\lib\\site-packages (0.13.2)\n",
      "Requirement already satisfied: numpy>=1.26.0 in c:\\programdata\\anaconda3\\lib\\site-packages (from pandas) (1.26.4)\n",
      "Requirement already satisfied: python-dateutil>=2.8.2 in c:\\programdata\\anaconda3\\lib\\site-packages (from pandas) (2.9.0.post0)\n",
      "Requirement already satisfied: pytz>=2020.1 in c:\\programdata\\anaconda3\\lib\\site-packages (from pandas) (2024.1)\n",
      "Requirement already satisfied: tzdata>=2022.7 in c:\\programdata\\anaconda3\\lib\\site-packages (from pandas) (2023.3)\n",
      "Requirement already satisfied: contourpy>=1.0.1 in c:\\programdata\\anaconda3\\lib\\site-packages (from matplotlib) (1.2.0)\n",
      "Requirement already satisfied: cycler>=0.10 in c:\\programdata\\anaconda3\\lib\\site-packages (from matplotlib) (0.11.0)\n",
      "Requirement already satisfied: fonttools>=4.22.0 in c:\\programdata\\anaconda3\\lib\\site-packages (from matplotlib) (4.51.0)\n",
      "Requirement already satisfied: kiwisolver>=1.3.1 in c:\\programdata\\anaconda3\\lib\\site-packages (from matplotlib) (1.4.4)\n",
      "Requirement already satisfied: packaging>=20.0 in c:\\programdata\\anaconda3\\lib\\site-packages (from matplotlib) (24.1)\n",
      "Requirement already satisfied: pillow>=8 in c:\\programdata\\anaconda3\\lib\\site-packages (from matplotlib) (10.4.0)\n",
      "Requirement already satisfied: pyparsing>=2.3.1 in c:\\programdata\\anaconda3\\lib\\site-packages (from matplotlib) (3.1.2)\n",
      "Requirement already satisfied: six>=1.5 in c:\\programdata\\anaconda3\\lib\\site-packages (from python-dateutil>=2.8.2->pandas) (1.16.0)\n",
      "Note: you may need to restart the kernel to use updated packages.\n"
     ]
    }
   ],
   "source": [
    "pip install pandas matplotlib seaborn"
   ]
  },
  {
   "cell_type": "markdown",
   "id": "0a8cc704-7ee0-4d61-a73f-51a551b4cdc9",
   "metadata": {},
   "source": [
    "# Step 1: Import Dataset into Python"
   ]
  },
  {
   "cell_type": "code",
   "execution_count": 2,
   "id": "085c9ce3-7a91-4052-9cc6-64be269d66c0",
   "metadata": {},
   "outputs": [
    {
     "data": {
      "text/html": [
       "<div>\n",
       "<style scoped>\n",
       "    .dataframe tbody tr th:only-of-type {\n",
       "        vertical-align: middle;\n",
       "    }\n",
       "\n",
       "    .dataframe tbody tr th {\n",
       "        vertical-align: top;\n",
       "    }\n",
       "\n",
       "    .dataframe thead th {\n",
       "        text-align: right;\n",
       "    }\n",
       "</style>\n",
       "<table border=\"1\" class=\"dataframe\">\n",
       "  <thead>\n",
       "    <tr style=\"text-align: right;\">\n",
       "      <th></th>\n",
       "      <th>Order_ID</th>\n",
       "      <th>Product_ID</th>\n",
       "      <th>User_ID</th>\n",
       "      <th>Order_Date</th>\n",
       "      <th>Return_Date</th>\n",
       "      <th>Product_Category</th>\n",
       "      <th>Product_Price</th>\n",
       "      <th>Order_Quantity</th>\n",
       "      <th>Return_Reason</th>\n",
       "      <th>Return_Status</th>\n",
       "      <th>Days_to_Return</th>\n",
       "      <th>User_Age</th>\n",
       "      <th>User_Gender</th>\n",
       "      <th>User_Location</th>\n",
       "      <th>Payment_Method</th>\n",
       "      <th>Shipping_Method</th>\n",
       "      <th>Discount_Applied</th>\n",
       "    </tr>\n",
       "  </thead>\n",
       "  <tbody>\n",
       "    <tr>\n",
       "      <th>0</th>\n",
       "      <td>ORD00000000</td>\n",
       "      <td>PROD00000000</td>\n",
       "      <td>USER00000000</td>\n",
       "      <td>2023-08-05</td>\n",
       "      <td>2024-08-26</td>\n",
       "      <td>Clothing</td>\n",
       "      <td>411.59</td>\n",
       "      <td>3</td>\n",
       "      <td>Changed mind</td>\n",
       "      <td>Returned</td>\n",
       "      <td>387.0</td>\n",
       "      <td>58</td>\n",
       "      <td>Male</td>\n",
       "      <td>City54</td>\n",
       "      <td>Debit Card</td>\n",
       "      <td>Next-Day</td>\n",
       "      <td>45.27</td>\n",
       "    </tr>\n",
       "    <tr>\n",
       "      <th>1</th>\n",
       "      <td>ORD00000001</td>\n",
       "      <td>PROD00000001</td>\n",
       "      <td>USER00000001</td>\n",
       "      <td>2023-10-09</td>\n",
       "      <td>2023-11-09</td>\n",
       "      <td>Books</td>\n",
       "      <td>288.88</td>\n",
       "      <td>3</td>\n",
       "      <td>Wrong item</td>\n",
       "      <td>Returned</td>\n",
       "      <td>31.0</td>\n",
       "      <td>68</td>\n",
       "      <td>Female</td>\n",
       "      <td>City85</td>\n",
       "      <td>Credit Card</td>\n",
       "      <td>Express</td>\n",
       "      <td>47.79</td>\n",
       "    </tr>\n",
       "    <tr>\n",
       "      <th>2</th>\n",
       "      <td>ORD00000002</td>\n",
       "      <td>PROD00000002</td>\n",
       "      <td>USER00000002</td>\n",
       "      <td>2023-05-06</td>\n",
       "      <td>NaN</td>\n",
       "      <td>Toys</td>\n",
       "      <td>390.03</td>\n",
       "      <td>5</td>\n",
       "      <td>NaN</td>\n",
       "      <td>Not Returned</td>\n",
       "      <td>NaN</td>\n",
       "      <td>22</td>\n",
       "      <td>Female</td>\n",
       "      <td>City30</td>\n",
       "      <td>Debit Card</td>\n",
       "      <td>Next-Day</td>\n",
       "      <td>26.64</td>\n",
       "    </tr>\n",
       "    <tr>\n",
       "      <th>3</th>\n",
       "      <td>ORD00000003</td>\n",
       "      <td>PROD00000003</td>\n",
       "      <td>USER00000003</td>\n",
       "      <td>2024-08-29</td>\n",
       "      <td>NaN</td>\n",
       "      <td>Toys</td>\n",
       "      <td>401.09</td>\n",
       "      <td>3</td>\n",
       "      <td>NaN</td>\n",
       "      <td>Not Returned</td>\n",
       "      <td>NaN</td>\n",
       "      <td>40</td>\n",
       "      <td>Male</td>\n",
       "      <td>City95</td>\n",
       "      <td>PayPal</td>\n",
       "      <td>Next-Day</td>\n",
       "      <td>15.37</td>\n",
       "    </tr>\n",
       "    <tr>\n",
       "      <th>4</th>\n",
       "      <td>ORD00000004</td>\n",
       "      <td>PROD00000004</td>\n",
       "      <td>USER00000004</td>\n",
       "      <td>2023-01-16</td>\n",
       "      <td>NaN</td>\n",
       "      <td>Books</td>\n",
       "      <td>110.09</td>\n",
       "      <td>4</td>\n",
       "      <td>NaN</td>\n",
       "      <td>Not Returned</td>\n",
       "      <td>NaN</td>\n",
       "      <td>34</td>\n",
       "      <td>Female</td>\n",
       "      <td>City80</td>\n",
       "      <td>Gift Card</td>\n",
       "      <td>Standard</td>\n",
       "      <td>16.37</td>\n",
       "    </tr>\n",
       "  </tbody>\n",
       "</table>\n",
       "</div>"
      ],
      "text/plain": [
       "      Order_ID    Product_ID       User_ID  Order_Date Return_Date  \\\n",
       "0  ORD00000000  PROD00000000  USER00000000  2023-08-05  2024-08-26   \n",
       "1  ORD00000001  PROD00000001  USER00000001  2023-10-09  2023-11-09   \n",
       "2  ORD00000002  PROD00000002  USER00000002  2023-05-06         NaN   \n",
       "3  ORD00000003  PROD00000003  USER00000003  2024-08-29         NaN   \n",
       "4  ORD00000004  PROD00000004  USER00000004  2023-01-16         NaN   \n",
       "\n",
       "  Product_Category  Product_Price  Order_Quantity Return_Reason Return_Status  \\\n",
       "0         Clothing         411.59               3  Changed mind      Returned   \n",
       "1            Books         288.88               3    Wrong item      Returned   \n",
       "2             Toys         390.03               5           NaN  Not Returned   \n",
       "3             Toys         401.09               3           NaN  Not Returned   \n",
       "4            Books         110.09               4           NaN  Not Returned   \n",
       "\n",
       "   Days_to_Return  User_Age User_Gender User_Location Payment_Method  \\\n",
       "0           387.0        58        Male        City54     Debit Card   \n",
       "1            31.0        68      Female        City85    Credit Card   \n",
       "2             NaN        22      Female        City30     Debit Card   \n",
       "3             NaN        40        Male        City95         PayPal   \n",
       "4             NaN        34      Female        City80      Gift Card   \n",
       "\n",
       "  Shipping_Method  Discount_Applied  \n",
       "0        Next-Day             45.27  \n",
       "1         Express             47.79  \n",
       "2        Next-Day             26.64  \n",
       "3        Next-Day             15.37  \n",
       "4        Standard             16.37  "
      ]
     },
     "execution_count": 2,
     "metadata": {},
     "output_type": "execute_result"
    }
   ],
   "source": [
    "import pandas as pd\n",
    "\n",
    "df = pd.read_csv(\"ecommerce_returns_synthetic_data.csv\")\n",
    "df.head()\n",
    "\n"
   ]
  },
  {
   "cell_type": "markdown",
   "id": "81490d12-9fbb-44bc-b2b6-ee1eb7157ac3",
   "metadata": {},
   "source": [
    "# Step 2: Clean & Prepare the Data\n",
    "# 1. Remove duplicates & nulls        "
   ]
  },
  {
   "cell_type": "code",
   "execution_count": 5,
   "id": "7d33a81e-1538-417e-aca0-d4d2a77687de",
   "metadata": {},
   "outputs": [],
   "source": [
    "df.drop_duplicates(inplace=True)\n",
    "df.dropna(inplace=True)\n"
   ]
  },
  {
   "cell_type": "markdown",
   "id": "66cd5dbe-6c89-46b5-a850-467c7aff2582",
   "metadata": {},
   "source": [
    "# 2.  Convert dates"
   ]
  },
  {
   "cell_type": "code",
   "execution_count": 9,
   "id": "9470ee05-662e-4568-b6b8-fcc14154b3a7",
   "metadata": {},
   "outputs": [],
   "source": [
    "df['Order_Date'] = pd.to_datetime(df['Order_Date'])\n",
    "df['Return_Date'] = pd.to_datetime(df['Return_Date'])\n"
   ]
  },
  {
   "cell_type": "markdown",
   "id": "861a1968-2751-4b8d-88d5-bdeae53d9360",
   "metadata": {},
   "source": [
    "# 3. Create ReturnDays"
   ]
  },
  {
   "cell_type": "code",
   "execution_count": 13,
   "id": "043fcf70-8458-4c89-8380-d3d7c4d05c8c",
   "metadata": {},
   "outputs": [],
   "source": [
    "df['Days_to_Return'] = (df['Return_Date'] - df['Order_Date']).dt.days\n",
    "df['Days_to_Return'] = df['Days_to_Return'].round().astype('Int64')\n"
   ]
  },
  {
   "cell_type": "markdown",
   "id": "7d469f0f-a120-4d52-8a35-f47516d69540",
   "metadata": {},
   "source": [
    "# 4. Create target column"
   ]
  },
  {
   "cell_type": "code",
   "execution_count": 11,
   "id": "b928805e-183a-4cab-bd60-a4bf60382df0",
   "metadata": {},
   "outputs": [
    {
     "data": {
      "text/html": [
       "<div>\n",
       "<style scoped>\n",
       "    .dataframe tbody tr th:only-of-type {\n",
       "        vertical-align: middle;\n",
       "    }\n",
       "\n",
       "    .dataframe tbody tr th {\n",
       "        vertical-align: top;\n",
       "    }\n",
       "\n",
       "    .dataframe thead th {\n",
       "        text-align: right;\n",
       "    }\n",
       "</style>\n",
       "<table border=\"1\" class=\"dataframe\">\n",
       "  <thead>\n",
       "    <tr style=\"text-align: right;\">\n",
       "      <th></th>\n",
       "      <th>Order_ID</th>\n",
       "      <th>Product_ID</th>\n",
       "      <th>User_ID</th>\n",
       "      <th>Order_Date</th>\n",
       "      <th>ReturnDate</th>\n",
       "      <th>Product_Category</th>\n",
       "      <th>Product_Price</th>\n",
       "      <th>Order_Quantity</th>\n",
       "      <th>Return_Reason</th>\n",
       "      <th>IsReturned</th>\n",
       "      <th>ReturnDays</th>\n",
       "      <th>User_Age</th>\n",
       "      <th>User_Gender</th>\n",
       "      <th>User_Location</th>\n",
       "      <th>Payment_Method</th>\n",
       "      <th>Shipping_Method</th>\n",
       "      <th>Discount_Applied</th>\n",
       "    </tr>\n",
       "  </thead>\n",
       "  <tbody>\n",
       "    <tr>\n",
       "      <th>0</th>\n",
       "      <td>ORD00000000</td>\n",
       "      <td>PROD00000000</td>\n",
       "      <td>USER00000000</td>\n",
       "      <td>2023-08-05</td>\n",
       "      <td>2024-08-26</td>\n",
       "      <td>Clothing</td>\n",
       "      <td>411.59</td>\n",
       "      <td>3</td>\n",
       "      <td>Changed mind</td>\n",
       "      <td>Returned</td>\n",
       "      <td>387</td>\n",
       "      <td>58</td>\n",
       "      <td>Male</td>\n",
       "      <td>City54</td>\n",
       "      <td>Debit Card</td>\n",
       "      <td>Next-Day</td>\n",
       "      <td>45.27</td>\n",
       "    </tr>\n",
       "    <tr>\n",
       "      <th>1</th>\n",
       "      <td>ORD00000001</td>\n",
       "      <td>PROD00000001</td>\n",
       "      <td>USER00000001</td>\n",
       "      <td>2023-10-09</td>\n",
       "      <td>2023-11-09</td>\n",
       "      <td>Books</td>\n",
       "      <td>288.88</td>\n",
       "      <td>3</td>\n",
       "      <td>Wrong item</td>\n",
       "      <td>Returned</td>\n",
       "      <td>31</td>\n",
       "      <td>68</td>\n",
       "      <td>Female</td>\n",
       "      <td>City85</td>\n",
       "      <td>Credit Card</td>\n",
       "      <td>Express</td>\n",
       "      <td>47.79</td>\n",
       "    </tr>\n",
       "    <tr>\n",
       "      <th>5</th>\n",
       "      <td>ORD00000005</td>\n",
       "      <td>PROD00000005</td>\n",
       "      <td>USER00000005</td>\n",
       "      <td>2024-02-14</td>\n",
       "      <td>2024-09-22</td>\n",
       "      <td>Electronics</td>\n",
       "      <td>252.12</td>\n",
       "      <td>1</td>\n",
       "      <td>Defective</td>\n",
       "      <td>Returned</td>\n",
       "      <td>221</td>\n",
       "      <td>46</td>\n",
       "      <td>Female</td>\n",
       "      <td>City47</td>\n",
       "      <td>Debit Card</td>\n",
       "      <td>Next-Day</td>\n",
       "      <td>47.61</td>\n",
       "    </tr>\n",
       "    <tr>\n",
       "      <th>6</th>\n",
       "      <td>ORD00000006</td>\n",
       "      <td>PROD00000006</td>\n",
       "      <td>USER00000006</td>\n",
       "      <td>2023-05-29</td>\n",
       "      <td>2023-08-03</td>\n",
       "      <td>Clothing</td>\n",
       "      <td>382.89</td>\n",
       "      <td>2</td>\n",
       "      <td>Wrong item</td>\n",
       "      <td>Returned</td>\n",
       "      <td>66</td>\n",
       "      <td>25</td>\n",
       "      <td>Male</td>\n",
       "      <td>City50</td>\n",
       "      <td>Credit Card</td>\n",
       "      <td>Express</td>\n",
       "      <td>28.49</td>\n",
       "    </tr>\n",
       "    <tr>\n",
       "      <th>7</th>\n",
       "      <td>ORD00000007</td>\n",
       "      <td>PROD00000007</td>\n",
       "      <td>USER00000007</td>\n",
       "      <td>2023-02-09</td>\n",
       "      <td>2024-08-01</td>\n",
       "      <td>Electronics</td>\n",
       "      <td>306.39</td>\n",
       "      <td>3</td>\n",
       "      <td>Not as described</td>\n",
       "      <td>Returned</td>\n",
       "      <td>539</td>\n",
       "      <td>67</td>\n",
       "      <td>Female</td>\n",
       "      <td>City39</td>\n",
       "      <td>Credit Card</td>\n",
       "      <td>Express</td>\n",
       "      <td>38.91</td>\n",
       "    </tr>\n",
       "  </tbody>\n",
       "</table>\n",
       "</div>"
      ],
      "text/plain": [
       "      Order_ID    Product_ID       User_ID  Order_Date  ReturnDate  \\\n",
       "0  ORD00000000  PROD00000000  USER00000000  2023-08-05  2024-08-26   \n",
       "1  ORD00000001  PROD00000001  USER00000001  2023-10-09  2023-11-09   \n",
       "5  ORD00000005  PROD00000005  USER00000005  2024-02-14  2024-09-22   \n",
       "6  ORD00000006  PROD00000006  USER00000006  2023-05-29  2023-08-03   \n",
       "7  ORD00000007  PROD00000007  USER00000007  2023-02-09  2024-08-01   \n",
       "\n",
       "  Product_Category  Product_Price  Order_Quantity     Return_Reason  \\\n",
       "0         Clothing         411.59               3      Changed mind   \n",
       "1            Books         288.88               3        Wrong item   \n",
       "5      Electronics         252.12               1         Defective   \n",
       "6         Clothing         382.89               2        Wrong item   \n",
       "7      Electronics         306.39               3  Not as described   \n",
       "\n",
       "  IsReturned  ReturnDays  User_Age User_Gender User_Location Payment_Method  \\\n",
       "0   Returned         387        58        Male        City54     Debit Card   \n",
       "1   Returned          31        68      Female        City85    Credit Card   \n",
       "5   Returned         221        46      Female        City47     Debit Card   \n",
       "6   Returned          66        25        Male        City50    Credit Card   \n",
       "7   Returned         539        67      Female        City39    Credit Card   \n",
       "\n",
       "  Shipping_Method  Discount_Applied  \n",
       "0        Next-Day             45.27  \n",
       "1         Express             47.79  \n",
       "5        Next-Day             47.61  \n",
       "6         Express             28.49  \n",
       "7         Express             38.91  "
      ]
     },
     "execution_count": 11,
     "metadata": {},
     "output_type": "execute_result"
    }
   ],
   "source": [
    "df.rename(columns={\n",
    "    'Return_Status': 'IsReturned',\n",
    "    'Return_Date': 'ReturnDate',\n",
    "    'Days_to_Return': 'ReturnDays'\n",
    "}, inplace=True)\n",
    "df.head()\n",
    "\n"
   ]
  },
  {
   "cell_type": "markdown",
   "id": "a3a8d79c-2117-4e2d-a838-d9bb3e4caf68",
   "metadata": {},
   "source": [
    "# Step 3: Exploratory Data Analysis (EDA)\n",
    "## Analyze Return Rate by:"
   ]
  },
  {
   "cell_type": "code",
   "execution_count": 26,
   "id": "fcefb643-4c52-4c22-8c76-3f4121ad9bb9",
   "metadata": {},
   "outputs": [],
   "source": [
    "\n",
    "# Category-wise return rate\n",
    "category_return = df.groupby('Product_Category')['IsReturned'].mean()\n",
    "\n",
    "# Location-wise return rate\n",
    "location_return = df.groupby('User_Location')['IsReturned'].mean()\n"
   ]
  },
  {
   "cell_type": "markdown",
   "id": "a30ed5c8-dda1-4023-ae7f-c65f74d6adeb",
   "metadata": {},
   "source": [
    "## Visualize:"
   ]
  },
  {
   "cell_type": "code",
   "execution_count": 30,
   "id": "58f64e0d-8bb8-40a3-bcbe-11db29cf8f84",
   "metadata": {},
   "outputs": [
    {
     "data": {
      "image/png": "[encoded data removed]",
      "text/plain": [
       "<Figure size 640x480 with 1 Axes>"
      ]
     },
     "metadata": {},
     "output_type": "display_data"
    }
   ],
   "source": [
    "import seaborn as sns\n",
    "import matplotlib.pyplot as plt\n",
    "\n",
    "sns.barplot(x=category_return.index, y=category_return.values)\n",
    "plt.title(\"Return Rate by Category\")\n",
    "plt.xticks(rotation=45)\n",
    "plt.show()\n"
   ]
  },
  {
   "cell_type": "markdown",
   "id": "aeb5ddbd-a1d1-428e-96dc-fbf373a65c21",
   "metadata": {},
   "source": [
    "# Step 4: Train Logistic Regression Model"
   ]
  },
  {
   "cell_type": "code",
   "execution_count": 39,
   "id": "8f162485-6c5a-4916-a72b-536ce8379c3b",
   "metadata": {},
   "outputs": [],
   "source": [
    "features = ['Product_Category', 'Product_Price', 'Discount_Applied', 'User_Location']\n",
    "X = df_model[features]\n",
    "y = df_model['IsReturned']"
   ]
  },
  {
   "cell_type": "code",
   "execution_count": 40,
   "id": "8f362d37-0f5c-4c56-af89-4f11eed53c3c",
   "metadata": {},
   "outputs": [
    {
     "name": "stdout",
     "output_type": "stream",
     "text": [
      "[[1]]\n",
      "              precision    recall  f1-score   support\n",
      "\n",
      "           1       1.00      1.00      1.00         1\n",
      "\n",
      "    accuracy                           1.00         1\n",
      "   macro avg       1.00      1.00      1.00         1\n",
      "weighted avg       1.00      1.00      1.00         1\n",
      "\n"
     ]
    },
    {
     "name": "stderr",
     "output_type": "stream",
     "text": [
      "C:\\ProgramData\\anaconda3\\Lib\\site-packages\\sklearn\\metrics\\_classification.py:409: UserWarning: A single label was found in 'y_true' and 'y_pred'. For the confusion matrix to have the correct shape, use the 'labels' parameter to pass all known labels.\n",
      "  warnings.warn(\n"
     ]
    }
   ],
   "source": [
    "from sklearn.model_selection import train_test_split\n",
    "from sklearn.linear_model import LogisticRegression\n",
    "from sklearn.metrics import classification_report, confusion_matrix\n",
    "\n",
    "X_train, X_test, y_train, y_test = train_test_split(X, y, test_size=0.2, random_state=42)\n",
    "model = LogisticRegression()\n",
    "model.fit(X_train, y_train)\n",
    "\n",
    "y_pred = model.predict(X_test)\n",
    "print(confusion_matrix(y_test, y_pred))\n",
    "print(classification_report(y_test, y_pred))\n"
   ]
  },
  {
   "cell_type": "markdown",
   "id": "80c22931-39ee-480d-8984-7ff9b5b19b4d",
   "metadata": {},
   "source": [
    "## predicted probabilities: "
   ]
  },
  {
   "cell_type": "code",
   "execution_count": 41,
   "id": "da8f63d1-79fb-4b7d-bcc2-8e975e3ff6ed",
   "metadata": {},
   "outputs": [],
   "source": [
    "\n",
    "df['Return_Probability'] = model.predict_proba(X)[:,1]\n",
    "df.to_csv(\"model_output.csv\", index=False)\n",
    "\n"
   ]
  },
  {
   "cell_type": "markdown",
   "id": "2c08e053-7505-4bd3-adfc-add2d1082fcf",
   "metadata": {},
   "source": [
    "# Objective of this Notebook\n",
    "- Clean the raw dataset and ensure data quality\n",
    "- Save the cleaned dataset for Power BI "
   ]
  }
 ],
 "metadata": {
  "kernelspec": {
   "display_name": "Python 3 (ipykernel)",
   "language": "python",
   "name": "python3"
  },
  "language_info": {
   "codemirror_mode": {
    "name": "ipython",
    "version": 3
   },
   "file_extension": ".py",
   "mimetype": "text/x-python",
   "name": "python",
   "nbconvert_exporter": "python",
   "pygments_lexer": "ipython3",
   "version": "3.12.7"
  }
 },
 "nbformat": 4,
 "nbformat_minor": 5
}
